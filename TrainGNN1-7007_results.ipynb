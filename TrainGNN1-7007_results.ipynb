{
 "cells": [
  {
   "cell_type": "code",
   "execution_count": 1,
   "id": "9f1f21dc-3a7a-4a9d-a47a-5852288333d7",
   "metadata": {},
   "outputs": [],
   "source": [
    "import os\n",
    "import random\n",
    "import gc"
   ]
  },
  {
   "cell_type": "code",
   "execution_count": 2,
   "id": "fed473d1-4c43-4cc6-a08f-00582d87a549",
   "metadata": {},
   "outputs": [],
   "source": [
    "import numpy as np\n",
    "import pandas as pd\n",
    "from sklearn.model_selection import train_test_split"
   ]
  },
  {
   "cell_type": "code",
   "execution_count": 3,
   "id": "9cb6b1ab-557b-46d9-abe7-b4161d3accd5",
   "metadata": {},
   "outputs": [],
   "source": [
    "import torch\n",
    "from torch_geometric.data import DataLoader\n",
    "from torch_geometric.nn import HeteroConv, GATConv, Linear, SAGEConv, to_hetero\n",
    "import torch.nn.functional as F\n",
    "import torch.nn as nn\n",
    "from torch.nn import Dropout\n",
    "from torch.nn.functional import relu, tanh, softmax\n",
    "import torch_geometric.transforms as T"
   ]
  },
  {
   "cell_type": "code",
   "execution_count": 4,
   "id": "20e34158-4525-496d-bfed-160aaefe46f1",
   "metadata": {},
   "outputs": [],
   "source": [
    "from IPython.core.debugger import set_trace"
   ]
  },
  {
   "cell_type": "code",
   "execution_count": 2,
   "id": "11849b0a-e492-4e81-afc3-b1bf28392c0c",
   "metadata": {},
   "outputs": [
    {
     "ename": "ImportError",
     "evalue": "cannot import name 'EnhancedGATModel' from 'EnhancedGATModel' (/AiDev/GNNNew/EnhancedGATModel.py)",
     "output_type": "error",
     "traceback": [
      "\u001b[0;31m---------------------------------------------------------------------------\u001b[0m",
      "\u001b[0;31mImportError\u001b[0m                               Traceback (most recent call last)",
      "Cell \u001b[0;32mIn[2], line 1\u001b[0m\n\u001b[0;32m----> 1\u001b[0m \u001b[38;5;28;01mfrom\u001b[39;00m \u001b[38;5;21;01mEnhancedGATModel\u001b[39;00m \u001b[38;5;28;01mimport\u001b[39;00m EnhancedGATModel\n",
      "\u001b[0;31mImportError\u001b[0m: cannot import name 'EnhancedGATModel' from 'EnhancedGATModel' (/AiDev/GNNNew/EnhancedGATModel.py)"
     ]
    }
   ],
   "source": [
    "from EnhancedGATModel import EnhancedGATModel"
   ]
  },
  {
   "cell_type": "code",
   "execution_count": 5,
   "id": "24ce470b-d198-487c-b8cd-f9087b2f99d7",
   "metadata": {},
   "outputs": [],
   "source": [
    "device = torch.device(\"cuda\" if torch.cuda.is_available() else \"cpu\")"
   ]
  },
  {
   "cell_type": "code",
   "execution_count": 6,
   "id": "1f26d63b-7287-4245-a195-19d2066cdbc6",
   "metadata": {},
   "outputs": [],
   "source": [
    "def LoadGraph(file_name):\n",
    "    graph = torch.load(file_name)\n",
    "    graph['pending_transaction'].x = graph['pending_transaction'].x.unsqueeze(0)\n",
    "    return graph"
   ]
  },
  {
   "cell_type": "code",
   "execution_count": 8,
   "id": "596dfeef-bb1d-4ba4-939d-3b660fe72041",
   "metadata": {},
   "outputs": [],
   "source": [
    "class EnhancedGATModel(torch.nn.Module):\n",
    "    @property\n",
    "    def edge_types(self):\n",
    "        return [\n",
    "            ('user', 'owns', 'card'),\n",
    "            ('card','belongs_to','user'),\n",
    "            ('user', 'has', 'user_history'),\n",
    "            ('user_history', 'belongs_to', 'user'),\n",
    "            ('user_history_transaction', 'part_of', 'user_history'),\n",
    "            ('user_history_transaction', 'paid_with', 'card'),\n",
    "            ('user_history_transaction', 'made_at', 'merchant'),\n",
    "            ('card','paid_for','user_history_transaction'),\n",
    "            ('merchant', 'made', 'user_history_transaction'),\n",
    "            ('user_history', 'reflects_on', 'pending_transaction'),            \n",
    "            ('merchant', 'made', 'user_history_transaction'),\n",
    "            ('merchant', 'selling', 'pending_transaction'),\n",
    "            ('user', 'purchasing', 'pending_transaction')\n",
    "        ]\n",
    "\n",
    "    def __init__(self, hidden_channels, out_channels, num_layers=2, dropout_rate=0.5):\n",
    "        super().__init__()\n",
    "\n",
    "        self.convs = torch.nn.ModuleList()\n",
    "        self.dropouts = torch.nn.ModuleList()\n",
    "        for _ in range(num_layers):\n",
    "            conv = HeteroConv({\n",
    "                edge_type: GATConv((-1, -1), hidden_channels, add_self_loops=False)\n",
    "                for edge_type in self.edge_types\n",
    "            }, aggr='mean')\n",
    "            self.convs.append(conv)\n",
    "            self.dropouts.append(Dropout(dropout_rate)) \n",
    "        \n",
    "        self.lin1 = Linear(3*hidden_channels, hidden_channels * 6)\n",
    "        self.lin2 = Linear(hidden_channels * 6, out_channels)\n",
    "        #self.skip_lin = Linear(105, 3*hidden_channels)\n",
    "        #self.bn_skip=nn.LayerNorm(105)\n",
    "        self.dropout_1 = Dropout(dropout_rate)\n",
    "        self.dropout_2 = Dropout(dropout_rate)\n",
    "\n",
    "    def forward(self, x_dict, edge_index_dict):\n",
    "        #x_pending_transaction = x_dict['pending_transaction']\n",
    "        #x_user = x_dict['user']\n",
    "        #x_transaction_history=x_dict['user_history']\n",
    "        #x_skip = torch.cat([x_pending_transaction, x_user, x_transaction_history], dim=1)\n",
    "\n",
    "        for conv, dropout in zip(self.convs, self.dropouts):\n",
    "            x_dict = conv(x_dict, edge_index_dict)\n",
    "            x_dict = {key: tanh(dropout(x)) for key, x in x_dict.items()}\n",
    "        \n",
    "        x_pending_transaction = x_dict['pending_transaction']\n",
    "        x_user = x_dict['user']\n",
    "        x_transaction_history = x_dict['user_history']\n",
    "        #print((x_pending_transaction.shape, x_user.shape, x_transaction_history.shape, x_skip.shape))\n",
    "        \n",
    "        combined = torch.cat([x_pending_transaction, x_user, x_transaction_history], dim=1)        \n",
    "        combined = self.dropout_1(combined)\n",
    "        combined = tanh(self.lin1(combined))        \n",
    "        \n",
    "        out = self.lin2(combined)\n",
    "        return out"
   ]
  },
  {
   "cell_type": "code",
   "execution_count": 9,
   "id": "172380aa-9c4b-4ab8-bb5c-fa07056e903d",
   "metadata": {},
   "outputs": [],
   "source": [
    "fraud = torch.tensor([[1., 0.]], dtype=torch.float)\n",
    "legit = torch.tensor([[0., 1.]], dtype=torch.float)\n",
    "fraud=fraud.to(device)\n",
    "legit=legit.to(device)\n",
    "\n",
    "def train(model, file_list):\n",
    "    model.train()\n",
    "    total_loss = 0\n",
    "    count=0\n",
    "    total_true=0\n",
    "    total_false=0    \n",
    "    \n",
    "    #for graph in dataloader:\n",
    "    for file in file_list:\n",
    "        optimizer.zero_grad()\n",
    "        count+=1\n",
    "        try:\n",
    "            graph=LoadGraph(file)            \n",
    "            #graph = T.ToUndirected()(graph)\n",
    "            graph = graph.to(device)\n",
    "            graph = T.NormalizeFeatures()(graph)            \n",
    "            out = model(graph.x_dict, graph.edge_index_dict)\n",
    "            #details.append([file, graph.y, out])\n",
    "        except Exception as e:\n",
    "            print(f'\\nFile:{file}, error {e}')\n",
    "            raise\n",
    "            continue\n",
    "            #set_trace()            \n",
    "        else:\n",
    "            target = fraud if graph.y==1 else legit            \n",
    "            loss = F.binary_cross_entropy_with_logits(out, target)\n",
    "            if train_show:\n",
    "                print((out,target,loss))\n",
    "            loss.backward()\n",
    "            optimizer.step()\n",
    "            total_loss += loss.item()\n",
    "        if count%10 == 0:\n",
    "            print(\".\", end=\"\")\n",
    "\n",
    "        del graph\n",
    "    gc.collect()\n",
    "            \n",
    "    return total_loss / len(file_list)"
   ]
  },
  {
   "cell_type": "code",
   "execution_count": 10,
   "id": "d9278716-75ef-4cf5-bb0c-ba10fdd7e1be",
   "metadata": {},
   "outputs": [],
   "source": [
    "def validate(model, valid_data):\n",
    "    model.eval()\n",
    "    correct = 0\n",
    "    total = 0\n",
    "    total_loss = 0.0\n",
    "    avg_total_loss = 0.0\n",
    "    true_positive, true_negative, false_positive, false_negative = 0,0,0,0\n",
    "    \n",
    "    with torch.no_grad():\n",
    "        for file_path in valid_data:\n",
    "            graph = LoadGraph(file_path)\n",
    "            graph = graph.to(device)\n",
    "\n",
    "            try:                \n",
    "                out = model(graph.x_dict, graph.edge_index_dict)\n",
    "                target = fraud if graph.y==1 else legit\n",
    "                loss = F.binary_cross_entropy_with_logits(out, target)\n",
    "                #print((out,target,loss))\n",
    "                \n",
    "            except Exception as e:\n",
    "                print(f'\\nFile:{file_path}, error {e}')\n",
    "                continue;\n",
    "                set_trace()\n",
    "\n",
    "            else:\n",
    "                total_loss += loss.item()\n",
    "                total += target.size(0)                \n",
    "                \n",
    "                predicted = torch.argmax(out, dim=1)\n",
    "                actual = torch.argmax(target, dim=1)\n",
    "                #print(f'out={out}, target={target}, predicted={predicted}, actual={actual}')\n",
    "                true_positive += ((predicted == 0) & (actual == 0)).sum().item()\n",
    "                true_negative += ((predicted == 1) & (actual == 1)).sum().item()\n",
    "                false_positive += ((predicted == 0) & (actual == 1)).sum().item()\n",
    "                false_negative += ((predicted == 1) & (actual == 0)).sum().item()\n",
    "\n",
    "                correct += (predicted == actual).sum().item()\n",
    "                \n",
    "            if total%10 == 0:\n",
    "                print(\".\", end=\"\")\n",
    "            del graph\n",
    "        gc.collect()\n",
    "\n",
    "    results_dict = {\n",
    "        \"True Positives\": true_positive,\n",
    "        \"True Negatives\": true_negative,\n",
    "        \"False Positives\": false_positive,\n",
    "        \"False Negatives\": false_negative\n",
    "    }\n",
    "\n",
    "    accuracy = correct / total\n",
    "    average_loss = total_loss / total\n",
    "    return accuracy, average_loss, results_dict"
   ]
  },
  {
   "cell_type": "code",
   "execution_count": 11,
   "id": "833cddb9-f933-4843-8613-0d01a7f2b3af",
   "metadata": {},
   "outputs": [],
   "source": [
    "graph_root_directory = '/AiDev/data/Set4'"
   ]
  },
  {
   "cell_type": "code",
   "execution_count": 12,
   "id": "2e8b71de-2937-47bc-8520-b5dadcf32246",
   "metadata": {},
   "outputs": [],
   "source": [
    "graphs = pd.read_csv('answer_key_Set4.csv')"
   ]
  },
  {
   "cell_type": "code",
   "execution_count": 13,
   "id": "c6b21775-e593-428f-9c00-f2c8c8ea255f",
   "metadata": {},
   "outputs": [
    {
     "name": "stdout",
     "output_type": "stream",
     "text": [
      "graphs size: 82128, frauds: 27376, legit_set: 54752\n"
     ]
    }
   ],
   "source": [
    "fraud_set = graphs[graphs['is_fraud']==1.0]\n",
    "legit_set = graphs[graphs['is_fraud']==0.0]\n",
    "print(f'graphs size: {len(graphs)}, frauds: {len(fraud_set)}, legit_set: {len(legit_set)}')"
   ]
  },
  {
   "cell_type": "code",
   "execution_count": 14,
   "id": "41cb7ff1-eaa3-459f-9aad-f9f95121f78e",
   "metadata": {},
   "outputs": [
    {
     "name": "stdout",
     "output_type": "stream",
     "text": [
      "1369 1369 2738\n"
     ]
    }
   ],
   "source": [
    "tiny_fraud = fraud_set.sample(frac=.05)\n",
    "tiny_legit = legit_set.sample(n=len(tiny_fraud))\n",
    "tiny_set = pd.concat([tiny_fraud, tiny_legit])\n",
    "#tiny_set = tiny_fraud\n",
    "#print(len(tiny_fraud), len(tiny_set))\n",
    "print(len(tiny_fraud), len(tiny_legit), len(tiny_set))"
   ]
  },
  {
   "cell_type": "code",
   "execution_count": 15,
   "id": "f525968c-a32b-4f32-ba79-a3e63b9c72a9",
   "metadata": {},
   "outputs": [],
   "source": [
    "final_set = tiny_set['file_path']"
   ]
  },
  {
   "cell_type": "code",
   "execution_count": 16,
   "id": "aae34767-7297-4eac-a44c-97649cfc1fb9",
   "metadata": {},
   "outputs": [],
   "source": [
    "train_set, valid_set = train_test_split(final_set, test_size=0.20, random_state=85)"
   ]
  },
  {
   "cell_type": "code",
   "execution_count": 17,
   "id": "fe0ec34f-417f-43a7-83e0-9ea568bfece1",
   "metadata": {},
   "outputs": [],
   "source": [
    "model = EnhancedGATModel(hidden_channels=24, out_channels=2)\n",
    "optimizer = torch.optim.Adam(model.parameters(), lr=0.00001, weight_decay=.001)\n",
    "model = model.to(device)"
   ]
  },
  {
   "cell_type": "code",
   "execution_count": 18,
   "id": "a9479fac-bc47-49e8-9760-24bf5ff0adcf",
   "metadata": {},
   "outputs": [],
   "source": [
    "epochs=1\n",
    "train_show = False"
   ]
  },
  {
   "cell_type": "code",
   "execution_count": 19,
   "id": "5f8f8b3c-e04e-4033-a302-eda4f93fc8ef",
   "metadata": {},
   "outputs": [],
   "source": [
    "def train_loop(model, train_files, valid_files, epochs=epochs):\n",
    "    for epoch in range(epochs):\n",
    "        print(\"\\nTrain\")    \n",
    "        train_loss = train(model, train_files)    \n",
    "        print(\"\\nValidate\")\n",
    "        valid_acc, valid_loss, valid_details = validate(model, valid_files)\n",
    "        print(f'Epoch: {epoch+1}, Train Loss: {train_loss:.4f}, Validation Accuracy: {valid_acc:.4f}, Validation Loss: {valid_loss:.4f}')\n",
    "        print(valid_details)\n",
    "    \n",
    "        #torch.save(model.state_dict(), f'models/{run_id}_{epoch}_{train_loss}_{valid_acc}_{valid_loss}_enhanced_gat_model_state.pth')\n",
    "        #np.save(f'models/{run_id}_{epoch}_confusion.npy', valid_details)\n",
    "        #del train_details\n",
    "        del valid_details\n",
    "        gc.collect()"
   ]
  },
  {
   "cell_type": "code",
   "execution_count": 20,
   "id": "760625db-bc16-451c-a9a3-86a8d70493fd",
   "metadata": {},
   "outputs": [
    {
     "name": "stdout",
     "output_type": "stream",
     "text": [
      "\n",
      "Train\n",
      "...........................................................................................................................................................................................................................\n",
      "Validate\n",
      "......................................................Epoch: 1, Train Loss: 0.6909, Validation Accuracy: 0.5693, Validation Loss: 0.6882\n",
      "{'True Positives': 218, 'True Negatives': 94, 'False Positives': 171, 'False Negatives': 65}\n"
     ]
    }
   ],
   "source": [
    "train_loop(model, train_set, valid_set)"
   ]
  },
  {
   "cell_type": "code",
   "execution_count": 21,
   "id": "094d840c-929c-4cba-91d1-65f5235b4703",
   "metadata": {},
   "outputs": [
    {
     "name": "stdout",
     "output_type": "stream",
     "text": [
      "\n",
      "Train\n",
      "...........................................................................................................................................................................................................................\n",
      "Validate\n",
      "......................................................Epoch: 1, Train Loss: 0.6894, Validation Accuracy: 0.6077, Validation Loss: 0.6833\n",
      "{'True Positives': 244, 'True Negatives': 89, 'False Positives': 176, 'False Negatives': 39}\n"
     ]
    }
   ],
   "source": [
    "train_loop(model, train_set, valid_set)"
   ]
  },
  {
   "cell_type": "code",
   "execution_count": 22,
   "id": "61f41a59-8c72-4d43-9264-ca1baa70dcfc",
   "metadata": {},
   "outputs": [
    {
     "name": "stdout",
     "output_type": "stream",
     "text": [
      "\n",
      "Train\n",
      "...........................................................................................................................................................................................................................\n",
      "Validate\n",
      "......................................................Epoch: 1, Train Loss: 0.6884, Validation Accuracy: 0.6715, Validation Loss: 0.6779\n",
      "{'True Positives': 247, 'True Negatives': 121, 'False Positives': 144, 'False Negatives': 36}\n",
      "\n",
      "Train\n",
      "...........................................................................................................................................................................................................................\n",
      "Validate\n",
      "......................................................Epoch: 2, Train Loss: 0.6869, Validation Accuracy: 0.6788, Validation Loss: 0.6726\n",
      "{'True Positives': 247, 'True Negatives': 125, 'False Positives': 140, 'False Negatives': 36}\n",
      "\n",
      "Train\n",
      "...........................................................................................................................................................................................................................\n",
      "Validate\n",
      "......................................................Epoch: 3, Train Loss: 0.6828, Validation Accuracy: 0.6989, Validation Loss: 0.6650\n",
      "{'True Positives': 257, 'True Negatives': 126, 'False Positives': 139, 'False Negatives': 26}\n"
     ]
    }
   ],
   "source": [
    "train_loop(model, train_set, valid_set,3)"
   ]
  },
  {
   "cell_type": "code",
   "execution_count": 23,
   "id": "5a7d5d1d-aef4-4b2b-88aa-8f8b9831838a",
   "metadata": {},
   "outputs": [
    {
     "name": "stdout",
     "output_type": "stream",
     "text": [
      "\n",
      "Train\n",
      "...........................................................................................................................................................................................................................\n",
      "Validate\n",
      "......................................................Epoch: 1, Train Loss: 0.6818, Validation Accuracy: 0.6971, Validation Loss: 0.6579\n",
      "{'True Positives': 257, 'True Negatives': 125, 'False Positives': 140, 'False Negatives': 26}\n",
      "\n",
      "Train\n",
      "...........................................................................................................................................................................................................................\n",
      "Validate\n",
      "......................................................Epoch: 2, Train Loss: 0.6780, Validation Accuracy: 0.7007, Validation Loss: 0.6499\n",
      "{'True Positives': 257, 'True Negatives': 127, 'False Positives': 138, 'False Negatives': 26}\n",
      "\n",
      "Train\n",
      "...........................................................................................................................................................................................................................\n",
      "Validate\n",
      "......................................................Epoch: 3, Train Loss: 0.6753, Validation Accuracy: 0.7007, Validation Loss: 0.6406\n",
      "{'True Positives': 257, 'True Negatives': 127, 'False Positives': 138, 'False Negatives': 26}\n"
     ]
    }
   ],
   "source": [
    "train_loop(model, train_set, valid_set,3)"
   ]
  },
  {
   "cell_type": "code",
   "execution_count": 24,
   "id": "440a4165-7b58-4573-b7e0-2457f6056f47",
   "metadata": {},
   "outputs": [],
   "source": [
    "torch.save(model, 'model_EnhancedGAT_7007')"
   ]
  },
  {
   "cell_type": "code",
   "execution_count": 25,
   "id": "0197c3a1-0d16-421c-83b3-31063e49ffce",
   "metadata": {},
   "outputs": [
    {
     "name": "stdout",
     "output_type": "stream",
     "text": [
      "\n",
      "Train\n",
      "...........................................................................................................................................................................................................................\n",
      "Validate\n",
      "......................................................Epoch: 1, Train Loss: 0.6729, Validation Accuracy: 0.7007, Validation Loss: 0.6328\n",
      "{'True Positives': 257, 'True Negatives': 127, 'False Positives': 138, 'False Negatives': 26}\n"
     ]
    }
   ],
   "source": [
    "train_loop(model, train_set, valid_set)"
   ]
  },
  {
   "cell_type": "code",
   "execution_count": 26,
   "id": "4a2e0739-4e93-46f4-a222-c3ea3a5d4ef9",
   "metadata": {},
   "outputs": [
    {
     "name": "stdout",
     "output_type": "stream",
     "text": [
      "\n",
      "Train\n",
      "...........................................................................................................................................................................................................................\n",
      "Validate\n",
      "......................................................Epoch: 1, Train Loss: 0.6700, Validation Accuracy: 0.7007, Validation Loss: 0.6194\n",
      "{'True Positives': 257, 'True Negatives': 127, 'False Positives': 138, 'False Negatives': 26}\n"
     ]
    }
   ],
   "source": [
    "train_loop(model, train_set, valid_set)"
   ]
  },
  {
   "cell_type": "code",
   "execution_count": 27,
   "id": "7dd8a817-5287-47ae-9f5c-707ffad709b2",
   "metadata": {},
   "outputs": [
    {
     "name": "stdout",
     "output_type": "stream",
     "text": [
      "\n",
      "Train\n",
      "...........................................................................................................................................................................................................................\n",
      "Validate\n",
      "......................................................Epoch: 1, Train Loss: 0.6665, Validation Accuracy: 0.7007, Validation Loss: 0.6125\n",
      "{'True Positives': 257, 'True Negatives': 127, 'False Positives': 138, 'False Negatives': 26}\n"
     ]
    }
   ],
   "source": [
    "train_loop(model, train_set, valid_set)"
   ]
  },
  {
   "cell_type": "code",
   "execution_count": 28,
   "id": "6965f365-0fd0-4446-8b59-8897b6498679",
   "metadata": {},
   "outputs": [
    {
     "name": "stdout",
     "output_type": "stream",
     "text": [
      "\n",
      "Train\n",
      "...........................................................................................................................................................................................................................\n",
      "Validate\n",
      "......................................................Epoch: 1, Train Loss: 0.6617, Validation Accuracy: 0.7007, Validation Loss: 0.6060\n",
      "{'True Positives': 257, 'True Negatives': 127, 'False Positives': 138, 'False Negatives': 26}\n"
     ]
    }
   ],
   "source": [
    "train_loop(model, train_set, valid_set)"
   ]
  },
  {
   "cell_type": "code",
   "execution_count": 29,
   "id": "44370ab3-7e54-46be-badc-07da6f01eac6",
   "metadata": {},
   "outputs": [
    {
     "name": "stdout",
     "output_type": "stream",
     "text": [
      "\n",
      "Train\n",
      "...........................................................................................................................................................................................................................\n",
      "Validate\n",
      "......................................................Epoch: 1, Train Loss: 0.6578, Validation Accuracy: 0.7007, Validation Loss: 0.6003\n",
      "{'True Positives': 257, 'True Negatives': 127, 'False Positives': 138, 'False Negatives': 26}\n"
     ]
    }
   ],
   "source": [
    "train_loop(model, train_set, valid_set)"
   ]
  },
  {
   "cell_type": "code",
   "execution_count": 30,
   "id": "bf51a691-0b0f-407c-8070-ef1274380da3",
   "metadata": {},
   "outputs": [
    {
     "name": "stdout",
     "output_type": "stream",
     "text": [
      "\n",
      "Train\n",
      "...........................................................................................................................................................................................................................\n",
      "Validate\n",
      "......................................................Epoch: 1, Train Loss: 0.6527, Validation Accuracy: 0.7007, Validation Loss: 0.5966\n",
      "{'True Positives': 257, 'True Negatives': 127, 'False Positives': 138, 'False Negatives': 26}\n"
     ]
    }
   ],
   "source": [
    "train_loop(model, train_set, valid_set)"
   ]
  },
  {
   "cell_type": "code",
   "execution_count": 31,
   "id": "1f145d61-6e1c-4226-9c9d-4bc72e8165b3",
   "metadata": {},
   "outputs": [
    {
     "name": "stdout",
     "output_type": "stream",
     "text": [
      "\n",
      "Train\n",
      "...........................................................................................................................................................................................................................\n",
      "Validate\n",
      "......................................................Epoch: 1, Train Loss: 0.6479, Validation Accuracy: 0.7007, Validation Loss: 0.5944\n",
      "{'True Positives': 257, 'True Negatives': 127, 'False Positives': 138, 'False Negatives': 26}\n"
     ]
    }
   ],
   "source": [
    "train_loop(model, train_set, valid_set)"
   ]
  },
  {
   "cell_type": "code",
   "execution_count": 32,
   "id": "8395fcef-2e77-4b96-b6a5-31c8c7654400",
   "metadata": {},
   "outputs": [
    {
     "name": "stdout",
     "output_type": "stream",
     "text": [
      "\n",
      "Train\n",
      "...........................................................................................................................................................................................................................\n",
      "Validate\n",
      "......................................................Epoch: 1, Train Loss: 0.6447, Validation Accuracy: 0.7007, Validation Loss: 0.5945\n",
      "{'True Positives': 257, 'True Negatives': 127, 'False Positives': 138, 'False Negatives': 26}\n"
     ]
    }
   ],
   "source": [
    "train_loop(model, train_set, valid_set)"
   ]
  },
  {
   "cell_type": "code",
   "execution_count": 33,
   "id": "c0ee955e-de20-4dfc-8ffc-095149390fbe",
   "metadata": {},
   "outputs": [
    {
     "name": "stdout",
     "output_type": "stream",
     "text": [
      "\n",
      "Train\n",
      "...........................................................................................................................................................................................................................\n",
      "Validate\n",
      "......................................................Epoch: 1, Train Loss: 0.6416, Validation Accuracy: 0.7007, Validation Loss: 0.5962\n",
      "{'True Positives': 257, 'True Negatives': 127, 'False Positives': 138, 'False Negatives': 26}\n"
     ]
    }
   ],
   "source": [
    "train_loop(model, train_set, valid_set)"
   ]
  },
  {
   "cell_type": "code",
   "execution_count": null,
   "id": "6eb487f6-ffc8-4c1f-8b72-a8faa2ef607c",
   "metadata": {},
   "outputs": [],
   "source": []
  }
 ],
 "metadata": {
  "kernelspec": {
   "display_name": "Python 3 (ipykernel)",
   "language": "python",
   "name": "python3"
  },
  "language_info": {
   "codemirror_mode": {
    "name": "ipython",
    "version": 3
   },
   "file_extension": ".py",
   "mimetype": "text/x-python",
   "name": "python",
   "nbconvert_exporter": "python",
   "pygments_lexer": "ipython3",
   "version": "3.9.18"
  }
 },
 "nbformat": 4,
 "nbformat_minor": 5
}
