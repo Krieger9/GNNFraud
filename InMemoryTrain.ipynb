{
 "cells": [
  {
   "cell_type": "code",
   "execution_count": 8,
   "id": "0f884dea-8a2f-48b4-82f0-118122790754",
   "metadata": {},
   "outputs": [],
   "source": [
    "import torch"
   ]
  },
  {
   "cell_type": "code",
   "execution_count": 9,
   "id": "f8b699f4-9560-427c-b190-2230c0c18f02",
   "metadata": {},
   "outputs": [],
   "source": [
    "import pandas as pd"
   ]
  },
  {
   "cell_type": "code",
   "execution_count": 10,
   "id": "a74cab37-a3a8-4792-93a4-3cf984afb226",
   "metadata": {},
   "outputs": [],
   "source": [
    "from EnhancedGATModel import EnhancedGATModel\n",
    "from GraphBuilder import GraphBuilder\n",
    "from GraphTrainer import GraphTrainer"
   ]
  },
  {
   "cell_type": "code",
   "execution_count": 11,
   "id": "2b2c3982-879f-408f-855e-26d812387edc",
   "metadata": {},
   "outputs": [],
   "source": [
    "device = torch.device(\"cuda\" if torch.cuda.is_available() else \"cpu\")"
   ]
  },
  {
   "cell_type": "code",
   "execution_count": 13,
   "id": "31efe845-6792-4d03-be5f-318c5c6eaee0",
   "metadata": {},
   "outputs": [],
   "source": [
    "transactions = pd.read_csv('/AiDev/large_models/clean_transactions.csv')"
   ]
  },
  {
   "cell_type": "code",
   "execution_count": 59,
   "id": "67541309-36b9-408d-b52c-3ce00c92bfb1",
   "metadata": {},
   "outputs": [],
   "source": [
    "def GenerateTransactionSet(transactions, legit_multiplier=2, valid_ratio=0.2):\n",
    "    fraud_mask = transactions['is_fraud']=='Yes'\n",
    "    legit_mask = ~fraud_mask\n",
    "\n",
    "    fraud_set = transactions[fraud_mask]    \n",
    "    legit_set = transactions[legit_mask].sample(len(fraud_set)*legit_multiplier)\n",
    "\n",
    "    valid_fraud = fraud_set.sample(frac=valid_ratio)\n",
    "    train_fraud = fraud_set.drop(valid_fraud.index)\n",
    "    valid_legit = legit_set.sample(frac=valid_ratio)\n",
    "    train_legit = legit_set.drop(valid_legit.index)\n",
    "\n",
    "    valid_set = pd.concat([valid_fraud, valid_legit]).sample(frac=1).reset_index()\n",
    "    valid_set = valid_set.rename(columns={'index':'original_index'})\n",
    "    train_set = pd.concat([train_fraud, train_legit]).sample(frac=1).reset_index()\n",
    "    train_set = train_set.rename(columns={'index':'original_index'})\n",
    "    \n",
    "    return valid_set[['original_index','user_id','is_fraud']], train_set[['original_index','user_id','is_fraud']]"
   ]
  },
  {
   "cell_type": "code",
   "execution_count": 60,
   "id": "b09162de-19d3-453c-935c-88d8eda91a46",
   "metadata": {},
   "outputs": [],
   "source": [
    "validation_set, training_set = GenerateTransactionSet(transactions)"
   ]
  },
  {
   "cell_type": "code",
   "execution_count": 62,
   "id": "30ffe431-5f73-4867-8bf0-dccac532b9af",
   "metadata": {},
   "outputs": [],
   "source": [
    "model = EnhancedGATModel(hidden_channels=24, out_channels=2)\n",
    "graph_builder = GraphBuilder()\n",
    "trainer = GraphTrainer(device)"
   ]
  },
  {
   "cell_type": "code",
   "execution_count": null,
   "id": "d0872568-d9c9-4483-adb1-80fde0e009a6",
   "metadata": {},
   "outputs": [],
   "source": [
    "trainer.train"
   ]
  }
 ],
 "metadata": {
  "kernelspec": {
   "display_name": "Python 3 (ipykernel)",
   "language": "python",
   "name": "python3"
  },
  "language_info": {
   "codemirror_mode": {
    "name": "ipython",
    "version": 3
   },
   "file_extension": ".py",
   "mimetype": "text/x-python",
   "name": "python",
   "nbconvert_exporter": "python",
   "pygments_lexer": "ipython3",
   "version": "3.9.18"
  }
 },
 "nbformat": 4,
 "nbformat_minor": 5
}
